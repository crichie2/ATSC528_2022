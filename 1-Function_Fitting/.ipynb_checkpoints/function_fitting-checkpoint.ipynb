{
 "cells": [
  {
   "cell_type": "code",
   "execution_count": null,
   "id": "55c27f76",
   "metadata": {},
   "outputs": [],
   "source": [
    "\"\"\"\n",
    "Created By    : Jared W. Marquis\n",
    "Creation Date : 01 August 2022\n",
    "Course        : ATSC 528 - Atmospheric Data Analysis\n",
    "Assignment    : #01 - Function Fitting\n",
    "\n",
    "Purpose:\n",
    "Script to take sparse upper air observations and analyze them on a\n",
    "polar stereographic map projection using function fitting.\n",
    "[PUT MORE INFORMATION HERE - I.E., WHAT SPECIFIC THING IS BEING DONE]\n",
    "\n",
    "\"\"\"\n",
    "__author__    = \"Jared W. Marquis\"\n",
    "__contact__   = \"jared.marquis@und.edu\""
   ]
  },
  {
   "cell_type": "code",
   "execution_count": null,
   "id": "7335135f",
   "metadata": {},
   "outputs": [],
   "source": [
    "### Import Required Modules (shouldn't need to change) ###\n",
    "import numpy as np                 #numpy for math\n",
    "import matplotlib.pyplot as plt    #matplotlib for plotting\n",
    "import cartopy.crs as ccrs         #cartopy for plotting on map\n",
    "import cartopy.feature as cfeature #cartopy basic shapefiles"
   ]
  },
  {
   "cell_type": "code",
   "execution_count": null,
   "id": "e55bf048",
   "metadata": {},
   "outputs": [],
   "source": [
    "### Read in observations ###\n"
   ]
  },
  {
   "cell_type": "code",
   "execution_count": null,
   "id": "9464917a",
   "metadata": {},
   "outputs": [],
   "source": [
    "### Set up analysis map with a 22x28 rectangular grid of points ###\n"
   ]
  },
  {
   "cell_type": "code",
   "execution_count": null,
   "id": "64629e3a",
   "metadata": {},
   "outputs": [],
   "source": [
    "### convert obs lat/long to x,y (may want to plot on your analysis grid to verify)###\n"
   ]
  },
  {
   "cell_type": "code",
   "execution_count": null,
   "id": "8d5634ab",
   "metadata": {},
   "outputs": [],
   "source": [
    "### Perform 500mb geopotential height analyses using a second order 2-d polynomial with two ###\n",
    "### radii of influence (10cm & 20cm) ###\n"
   ]
  },
  {
   "cell_type": "code",
   "execution_count": null,
   "id": "89c8ecdc",
   "metadata": {},
   "outputs": [],
   "source": [
    "### Plot 500mb analyses over a map ###\n",
    "#convert analysis x,y to lat/lon#\n",
    "\n",
    "\n",
    "proj = ccrs.Stereographic(central_longitude=-115,central_latitude=90,true_scale_latitude=60)\n",
    "fig = plt.figure(figsize=(8,8),dpi=200)\n",
    "ax1 = fig.add_subplot(111,projection=proj)\n",
    "ax1.add_feature(cfeature.STATES)\n",
    "ax1.add_feature(cfeature.COASTLINE)\n",
    "\n",
    "#plot analysis (MAY NEED TO CHANGE VARIABLE NAMES/INDICES)#\n",
    "cs1 = ax1.contour(LON,LAT,ANALYSIS[:,:,0],colors='k',levels=np.arange(0,8000,60),transform=ccrs.PlateCarree())\n",
    "plt.clabel(cs1,levels=np.arange(0,8000,60))\n",
    "plt.show()\n"
   ]
  },
  {
   "cell_type": "code",
   "execution_count": null,
   "id": "fa70d076",
   "metadata": {},
   "outputs": [],
   "source": [
    "### Plot number of observations available to polynomial fitting scheme for each grid point ###\n",
    "proj = ccrs.Stereographic(central_longitude=-115,central_latitude=90,true_scale_latitude=60)\n",
    "fig = plt.figure(figsize=(8,8),dpi=200)\n",
    "ax1 = fig.add_subplot(111,projection=proj)\n",
    "ax1.add_feature(cfeature.STATES)\n",
    "ax1.add_feature(cfeature.COASTLINE)\n",
    "\n",
    "#plot number of observations (MAY NEED TO CHANGE VARIABLE NAMES/INDICES)#\n",
    "cs1 = ax1.contour(LON,LAT,N_OBS[:,:,0],colors='k',levels=np.arange(0,200,5),transform=ccrs.PlateCarree())\n",
    "plt.clabel(cs1,levels=np.arange(0,200,10))\n",
    "\n",
    "plt.show()"
   ]
  },
  {
   "cell_type": "code",
   "execution_count": null,
   "id": "b141bb9c",
   "metadata": {},
   "outputs": [],
   "source": [
    "### Store the analyses in text files ###\n",
    "\n"
   ]
  },
  {
   "cell_type": "code",
   "execution_count": null,
   "id": "67e29b4a",
   "metadata": {},
   "outputs": [],
   "source": [
    "### Store the number of observations available for each grid point in text files ###\n",
    "\n"
   ]
  },
  {
   "cell_type": "code",
   "execution_count": null,
   "id": "661c6680",
   "metadata": {},
   "outputs": [],
   "source": [
    "### In a separte text file (or below), answer the following questions ###\n",
    "'''\n",
    "1 - Describe the general features that you see in your contoured analyses.\n",
    "    \n",
    "\n",
    "2 - Describe the differences that you see in your contoured analyses.  \n",
    "    Does one analysis seem to be smoother than the other?  If so, what would cause this?\n",
    "    \n",
    "\n",
    "3 - Run your program using a radius of influence of 6 cm (do not need to show).  \n",
    "    Describe the results - do they look realistic?  If there are problems, what\n",
    "    do you think might be causing them?\n",
    "    \n",
    "\n",
    "4 - Suppose you ran this program with a small enough radius of influence that only one\n",
    "    observation was available for determining a polynomial fit at a grid point.  Should\n",
    "    you be able to perform the matrix inversion?  Why or why not?\n",
    "    \n",
    "\n",
    "'''"
   ]
  },
  {
   "cell_type": "code",
   "execution_count": null,
   "id": "32740375",
   "metadata": {},
   "outputs": [],
   "source": []
  }
 ],
 "metadata": {
  "kernelspec": {
   "display_name": "Python 3 (ipykernel)",
   "language": "python",
   "name": "python3"
  },
  "language_info": {
   "codemirror_mode": {
    "name": "ipython",
    "version": 3
   },
   "file_extension": ".py",
   "mimetype": "text/x-python",
   "name": "python",
   "nbconvert_exporter": "python",
   "pygments_lexer": "ipython3",
   "version": "3.10.4"
  }
 },
 "nbformat": 4,
 "nbformat_minor": 5
}
